{
 "cells": [
  {
   "cell_type": "markdown",
   "metadata": {
    "pycharm": {
     "name": "#%% md\n"
    }
   },
   "source": [
    "<h2>\n",
    "Basic Finance\n",
    "</h2>\n",
    "\n",
    "<p>\n",
    "The Python code in this Jupyter notebook demonstrates some basic quantiative\n",
    "finance code.\n",
    "</p>\n",
    "<p>\n",
    "I have a Masters degree in Computational Finance and Risk Management from the\n",
    "University of Washington.  In this Masters program we used R.  I also used\n",
    "R for my Masters degree project (see\n",
    "<a href=\"http://bearcave.com/finance/thesis_project/index.html\">Value Factors Do Not Forecast Returns for S&P 500 Stocks</a>)\n",
    "</p>\n",
    "<p>\n",
    "For a variety of reasons I am moving from R to Python.  This notebook contains some of the\n",
    "first steps in this journey.\n",
    "</p>\n",
    "<p>\n",
    "The symbol ^IRX is the symbol for the 13-week t-bill, expressed as a yearly rate. This is used\n",
    "as a proxy for the \"risk free rate\".\n",
    "</p>"
   ]
  },
  {
   "cell_type": "code",
   "execution_count": 30,
   "metadata": {
    "pycharm": {
     "name": "#%%\n"
    }
   },
   "outputs": [
    {
     "name": "stdout",
     "output_type": "stream",
     "text": [
      "Symbols: gs  jpm  bac \n"
     ]
    }
   ],
   "source": [
    "from math import sqrt\n",
    "from typing import List\n",
    "from pandas_datareader import data\n",
    "from tabulate import tabulate\n",
    "import pandas as pd\n",
    "import numpy as np\n",
    "from pathlib import Path\n",
    "import statistics as stat\n",
    "\n",
    "tickers = ['gs', 'jpm', 'bac']\n",
    "\n",
    "risk_free_asset = '^IRX'\n",
    "\n",
    "print(\"Symbols: \" + \" \".join(sym + ' ' for sym in tickers))"
   ]
  },
  {
   "cell_type": "markdown",
   "metadata": {
    "pycharm": {
     "name": "#%% md\n"
    }
   },
   "source": [
    "<p>\n",
    "Fetch adjusted daily close prices for the symbols\n",
    "</p>\n",
    "<p>\n",
    "To avoid repeatedly accessing the data source, the close price data is written to a file in /tmp.\n",
    "This file will be removed when the system is rebooted.\n",
    "</p>"
   ]
  },
  {
   "cell_type": "code",
   "execution_count": 31,
   "metadata": {
    "pycharm": {
     "name": "#%%\n"
    }
   },
   "outputs": [],
   "source": [
    "data_source = 'yahoo'\n",
    "\n",
    "# year-month-day\n",
    "start_date = '2019-01-01'\n",
    "end_date = '2021-10-05'\n",
    "\n",
    "tempRoot: str = '/tmp/'\n",
    "stockFileName: str = 'banks.csv'\n",
    "stockFilePath: str = tempRoot + stockFileName\n",
    "stockTempPath = Path(stockFilePath)\n",
    "if stockTempPath.exists():\n",
    "    fileSize = stockTempPath.stat().st_size\n",
    "\n",
    "fileSize = 0\n",
    "if fileSize > 0:\n",
    "    close_prices = pd.read_csv(stockFilePath, index_col='Date')\n",
    "else:\n",
    "    panel_data = data.DataReader(tickers, data_source, start_date, end_date)\n",
    "    close_prices = panel_data['Adj Close']\n",
    "    close_prices.to_csv(stockFilePath)\n",
    "\n",
    "rfFileName = \"risk_free.csv\"\n",
    "rfFilePath = tempRoot + rfFileName\n",
    "rfTempPath = Path(rfFilePath)\n",
    "\n",
    "fileSize = 0\n",
    "if rfTempPath.exists():\n",
    "    fileSize = rfTempPath.stat().st_size\n",
    "\n",
    "if fileSize > 0:\n",
    "    rf_prices = pd.read_csv(rfFilePath, index_col='Date')\n",
    "else:\n",
    "    panel_data = data.DataReader(risk_free_asset, data_source, start_date, end_date)\n",
    "    rf_prices = panel_data['Adj Close']\n",
    "    rf_prices.to_csv(rfFilePath)"
   ]
  },
  {
   "cell_type": "markdown",
   "metadata": {
    "pycharm": {
     "name": "#%% md\n"
    }
   },
   "source": [
    "<h3>\n",
    "Basic time series statistics\n",
    "</h3>\n",
    "\n",
    "<h4>\n",
    "Stocks\n",
    "</h4>"
   ]
  },
  {
   "cell_type": "code",
   "execution_count": 32,
   "metadata": {
    "pycharm": {
     "name": "#%%\n"
    }
   },
   "outputs": [
    {
     "name": "stdout",
     "output_type": "stream",
     "text": [
      "╒══════════════╤══════════╤══════════╤═══════════╕\n",
      "│ Statistics   │       gs │      jpm │       bac │\n",
      "╞══════════════╪══════════╪══════════╪═══════════╡\n",
      "│ count        │ 696      │ 696      │ 696       │\n",
      "├──────────────┼──────────┼──────────┼───────────┤\n",
      "│ mean         │ 240.461  │ 117.073  │  29.9886  │\n",
      "├──────────────┼──────────┼──────────┼───────────┤\n",
      "│ std          │  73.6739 │  24.2521 │   6.23185 │\n",
      "├──────────────┼──────────┼──────────┼───────────┤\n",
      "│ min          │ 131.002  │  74.87   │  17.4691  │\n",
      "├──────────────┼──────────┼──────────┼───────────┤\n",
      "│ 25%          │ 190.829  │  96.6993 │  25.3222  │\n",
      "├──────────────┼──────────┼──────────┼───────────┤\n",
      "│ 50%          │ 204.868  │ 108.12   │  27.9751  │\n",
      "├──────────────┼──────────┼──────────┼───────────┤\n",
      "│ 75%          │ 290.02   │ 135.584  │  33.5886  │\n",
      "├──────────────┼──────────┼──────────┼───────────┤\n",
      "│ max          │ 417.661  │ 168.66   │  44.22    │\n",
      "╘══════════════╧══════════╧══════════╧═══════════╛\n"
     ]
    }
   ],
   "source": [
    "print(tabulate(close_prices.describe(), headers=['Statistics', *tickers], tablefmt=\"fancy_grid\"))"
   ]
  },
  {
   "cell_type": "markdown",
   "metadata": {
    "pycharm": {
     "name": "#%% md\n"
    }
   },
   "source": [
    "<h4>\n",
    "Risk-free asset\n",
    "</h4>"
   ]
  },
  {
   "cell_type": "code",
   "execution_count": 33,
   "metadata": {
    "pycharm": {
     "name": "#%%\n"
    }
   },
   "outputs": [
    {
     "name": "stdout",
     "output_type": "stream",
     "text": [
      "╒══════════════╤════════════╕\n",
      "│ Statistics   │       ^IRX │\n",
      "╞══════════════╪════════════╡\n",
      "│ count        │ 692        │\n",
      "├──────────────┼────────────┤\n",
      "│ mean         │   0.867475 │\n",
      "├──────────────┼────────────┤\n",
      "│ std          │   0.966755 │\n",
      "├──────────────┼────────────┤\n",
      "│ min          │  -0.105    │\n",
      "├──────────────┼────────────┤\n",
      "│ 25%          │   0.045    │\n",
      "├──────────────┼────────────┤\n",
      "│ 50%          │   0.115    │\n",
      "├──────────────┼────────────┤\n",
      "│ 75%          │   1.9      │\n",
      "├──────────────┼────────────┤\n",
      "│ max          │   2.408    │\n",
      "╘══════════════╧════════════╛\n"
     ]
    }
   ],
   "source": [
    "print(tabulate(rf_prices.describe(), headers=['Statistics', risk_free_asset], tablefmt=\"fancy_grid\"))"
   ]
  },
  {
   "cell_type": "markdown",
   "metadata": {
    "pycharm": {
     "name": "#%% md\n"
    }
   },
   "source": [
    "<h3>\n",
    "Time series plots\n",
    "</h3>"
   ]
  },
  {
   "cell_type": "code",
   "execution_count": 34,
   "metadata": {
    "pycharm": {
     "name": "#%%\n"
    }
   },
   "outputs": [
    {
     "data": {
      "text/plain": "<AxesSubplot:xlabel='Date'>"
     },
     "execution_count": 34,
     "metadata": {},
     "output_type": "execute_result"
    },
    {
     "data": {
      "text/plain": "<Figure size 432x288 with 1 Axes>",
      "image/png": "[encoded data removed]"
     },
     "metadata": {
      "needs_background": "light"
     },
     "output_type": "display_data"
    }
   ],
   "source": [
    "close_prices.plot()"
   ]
  },
  {
   "cell_type": "markdown",
   "metadata": {
    "pycharm": {
     "name": "#%% md\n"
    }
   },
   "source": [
    "<p>\n",
    "Comparing the three bank stocks is difficult since they are on different scales.\n",
    "Normalizing each stock price so that it starts at one allows price\n",
    "increases/decreases for the stocks to be compared on the same scale.\n",
    "</p>\n",
    "<p>\n",
    "One way to view this plot is the return on one dollar invested in each of the three\n",
    "bank stocks.\n",
    "</p>"
   ]
  },
  {
   "cell_type": "code",
   "execution_count": 35,
   "metadata": {
    "pycharm": {
     "name": "#%%\n"
    }
   },
   "outputs": [
    {
     "data": {
      "text/plain": "<AxesSubplot:xlabel='Date'>"
     },
     "execution_count": 35,
     "metadata": {},
     "output_type": "execute_result"
    },
    {
     "data": {
      "text/plain": "<Figure size 720x432 with 1 Axes>",
      "image/png": "[encoded data removed]"
     },
     "metadata": {
      "needs_background": "light"
     },
     "output_type": "display_data"
    }
   ],
   "source": [
    "normalized_close_list: List = []\n",
    "for sym in tickers:\n",
    "    normalized = close_prices[sym] / close_prices[sym][0]\n",
    "    normalized_close_list.append(normalized)\n",
    "\n",
    "normalized_close = pd.DataFrame(normalized_close_list).transpose()\n",
    "\n",
    "normalized_close.plot(grid=True, figsize=(10,6))"
   ]
  },
  {
   "cell_type": "markdown",
   "metadata": {
    "pycharm": {
     "name": "#%% md\n"
    }
   },
   "source": [
    "The above plot shows that Goldman Sachs (gs) is a dramatically better investment\n",
    "than either Bank of America or JP Morgan.\n",
    "\n",
    "<h3>\n",
    "Sharp Ratio\n",
    "</h3>\n",
    "\n",
    "$ Sharpe = \\frac{E[R_a - R_{rf}]}{ \\sqrt{var[R_a - R_{rf}]}} = \\frac{E[R_a - R_{rf}]}{ \\sigma_{ra}} = \\frac{\\mu_{ra}}{\\sigma_{ra}} $\n",
    "\n",
    "$ R_a$ is the asset return\n",
    "$ R_{rf}$ is the risk-free return (e.g., in this case the 13-week US Treasury bill).\n",
    "$ R_a - R_{rf}$ is the excess return over the risk-free rate.\n",
    "\n",
    "<p>\n",
    "The return values used here are daily return values. The Sharpe ratio is usually expressed\n",
    "as a yearly value.  There are 253 trading days in a year. To convert the daily Sharpe ratio\n",
    "to a yearly Sharpe ratio:\n",
    "</p>\n",
    "\n",
    "$ Sharpe_{year} = \\frac{\\mu_{ra} \\times 253}{ \\sigma_{ra} \\times \\sqrt{253}} =  \\frac{\\mu_{ra} \\times 253}{ \\sigma_{ra} \\times \\sqrt{253}} \\times \\frac{\\sqrt{253}}{\\sqrt{253}} =  \\frac{\\mu_{ra}}{\\sigma_{ra}} \\times \\sqrt{253} $\n",
    "\n",
    "<p>\n",
    "There is a discussion on Stack Exchange about <a href=\"https://quant.stackexchange.com/questions/2260/how-to-annualize-sharpe-ratio\">\n",
    "annualizing the Sharpe ratio</a>.  A paper by Andrew Lo,\n",
    "<a href=\"https://www.researchgate.net/publication/228139699_The_Statistics_of_Sharpe_Ratios\">The Statistics of Sharpe Ratios</a>\n",
    "is mentioned. Prof. Lo makes the point that because there is often serial correlation in returns\n",
    "annualizing the Sharpe ratio in this way may yield a result that differs from the \"correct\"\n",
    "value by significant amounts.  Unfortunately properly annualizing the Sharpe ratio is complicated\n",
    "and beyond the scope of what I want to do here.\n",
    "</p>\n",
    "\n",
    "<h4>\n",
    "Interpreting the Sharpe Ratio\n",
    "</h4>\n",
    "<p>\n",
    "From <a href=\"https://www.businessinsider.com/sharpe-ratio\">How the Sharpe Ratio is Calculated</a>\n",
    "</p>\n",
    "<ul>\n",
    "<li>Under 1.0 is considered bad</li>\n",
    "<li>1.0 is considered acceptable or good</li>\n",
    "<li>2.0 or higher is rated as very good</li>\n",
    "<li>3.0 or higher is considered excellent</li>\n",
    "</ul>\n",
    "\n",
    "<h3>\n",
    "Simple return\n",
    "</h3>\n",
    "\n",
    "$\\ R = \\frac{R_t - R_{t-1}}{R_{t-1}} = \\frac{R_t}{R_{t-1}} - 1$\n",
    "\n",
    "<p>\n",
    "To calculate the Sharpe ratio each close price must correspond to a risk free rate price.\n",
    "The data description tables above show that the number of stock close prices and\n",
    "risk free prices do not match.   Presumably this is due to\n",
    "risk-free asset (e.g., US treasury bills) values not being reported on bank holidays\n",
    "that are not holidays shared with the stock exchanges.\n",
    "</p>\n",
    "<p>\n",
    "The mismatch in data sizes will cause a problem when the return over the risk free rate\n",
    "is calculated, so the data sizes need to be normalized.\n",
    "</p>"
   ]
  },
  {
   "cell_type": "code",
   "execution_count": 36,
   "outputs": [],
   "source": [
    "def simple_return(time_series: List) -> List :\n",
    "    return list(((time_series[i]/time_series[i-1]) - 1.0 for i in range(1, len(time_series))))\n",
    "\n",
    "def return_df(time_series_df: pd.DataFrame) -> pd.DataFrame:\n",
    "    \"\"\"\n",
    "    Given a data frame consisting of price time series, return a data frame\n",
    "    that consists of the simple returns for the time series.  The returned data\n",
    "    frame will have the same columns, but the time index will be one time period\n",
    "    less.\n",
    "    \"\"\"\n",
    "    r_df: pd.DataFrame = pd.DataFrame()\n",
    "    col_names = time_series_df.columns\n",
    "    index = time_series_df.index\n",
    "    for col in col_names:\n",
    "        col_vals = time_series_df[col]\n",
    "        col_ret = simple_return(col_vals)\n",
    "        r_df[col] = col_ret\n",
    "    return r_df.set_index(index[1:len(index)])\n",
    "\n",
    "def excess_return_series(asset_return: pd.Series, risk_free: pd.Series) -> pd.DataFrame:\n",
    "    excess_ret_list: List = []\n",
    "    for i, ret in enumerate(asset_return):\n",
    "        excess_ret_list.append(ret - risk_free[i])\n",
    "    return pd.DataFrame(excess_ret_list).set_index(asset_return.index)\n",
    "\n",
    "\n",
    "def excess_return_df(asset_return: pd.DataFrame, risk_free: pd.Series) -> pd.DataFrame:\n",
    "    excess_df: pd.DataFrame = pd.DataFrame()\n",
    "    for i, col in enumerate(asset_return.columns):\n",
    "        e_df = excess_return_series(asset_return[col], risk_free)\n",
    "        excess_df.insert(i, col, e_df)\n",
    "    return excess_df\n",
    "\n",
    "def calc_sharpe_ratio(asset_return: pd.DataFrame, risk_free: pd.Series) -> pd.DataFrame:\n",
    "    excess_return = excess_return_df(asset_return, risk_free)\n",
    "    return_mean: List = []\n",
    "    return_stddev: List = []\n",
    "    for col in excess_return.columns:\n",
    "        mu = stat.mean(excess_return[col])\n",
    "        std = stat.stdev(excess_return[col])\n",
    "        return_mean.append(mu)\n",
    "        return_stddev.append(std)\n",
    "    # daily Sharpe ratio\n",
    "    # https://quant.stackexchange.com/questions/2260/how-to-annualize-sharpe-ratio\n",
    "    sharpe_ratio = np.asarray(return_mean) / np.asarray(return_stddev)\n",
    "    result_df: pd.DataFrame = pd.DataFrame(sharpe_ratio).transpose()\n",
    "    result_df.columns = asset_return.columns\n",
    "    ix = asset_return.index\n",
    "    ix_start = ix[0].date()\n",
    "    ix_end = ix[len(ix)-1].date()\n",
    "    index_str = f'{ix_start} : {ix_end}'\n",
    "    result_df.index = [ index_str ]\n",
    "    return result_df\n",
    "\n",
    "\n",
    "r_df = return_df(close_prices)\n",
    "\"\"\"\n",
    "Make sure that all of the indexes are datatime objects\n",
    "\"\"\"\n",
    "r_df_index = pd.to_datetime(r_df.index)\n",
    "rf_index = pd.to_datetime(rf_prices.index)\n",
    "# Make sure that the index types match\n",
    "assert(type(r_df_index) == type(rf_index))\n",
    "# filter the close prices\n",
    "matching_dates = r_df_index.isin( rf_index )\n",
    "r_df_adj = r_df[matching_dates]\n",
    "# filter the rf_prices\n",
    "r_df_index = pd.to_datetime(r_df_adj.index)\n",
    "matching_dates = rf_index.isin(r_df_index)\n",
    "rf_prices_adj = rf_prices[matching_dates]\n",
    "# check that all index elements now match\n",
    "assert( (r_df_adj.index == rf_prices_adj.index).all() )\n",
    "# Check that the DataFrame shapes are the same\n",
    "assert(r_df_adj.shape[0] == rf_prices_adj.shape[0])\n",
    "\n",
    "# the risk free rate is reported as a yearly percentage return (e.g., 2 percent),\n",
    "# so divide by 100.\n",
    "rf_daily = (rf_prices_adj/100.0) / 365.00\n",
    "\n",
    "trading_days = 253\n",
    "\n",
    "rf_daily = rf_daily[rf_daily.columns[0]]\n",
    "\n",
    "\"\"\"\n",
    "Calculate the yearly Sharpe ratios for the assets\n",
    "\"\"\"\n",
    "sharpe_df: pd.DataFrame = pd.DataFrame()\n",
    "for end in range(r_df_adj.shape[0], 0, -trading_days):\n",
    "    start = end - trading_days\n",
    "    if (start > 0):\n",
    "        ret_year = r_df_adj[start:end]\n",
    "        rf_year = rf_daily[start:end]\n",
    "        sharpe_ratio = calc_sharpe_ratio(ret_year, rf_year)\n",
    "        sharpe_ratio_year = sharpe_ratio * np.sqrt( trading_days )\n",
    "        sharpe_df = sharpe_df.append(sharpe_ratio_year)\n",
    "    else:\n",
    "        break"
   ],
   "metadata": {
    "collapsed": false,
    "pycharm": {
     "name": "#%%\n"
    }
   }
  },
  {
   "cell_type": "markdown",
   "source": [
    "<h3>\n",
    "Yearly Sharpe Ratio\n",
    "</h3>\n",
    "\n",
    "<p>\n",
    "The negative Sharpe ratios are a result of the fact that the mean return for the\n",
    "Sharpe ratio period was negative.\n",
    "</p>"
   ],
   "metadata": {
    "collapsed": false,
    "pycharm": {
     "name": "#%% md\n"
    }
   }
  },
  {
   "cell_type": "code",
   "execution_count": 37,
   "outputs": [
    {
     "name": "stdout",
     "output_type": "stream",
     "text": [
      "╒═════════════════════════╤═════════╤════════════╤════════════╕\n",
      "│ Date range              │      gs │        jpm │        bac │\n",
      "╞═════════════════════════╪═════════╪════════════╪════════════╡\n",
      "│ 2020-10-01 : 2021-10-05 │ 2.64963 │  2.37215   │  2.20966   │\n",
      "├─────────────────────────┼─────────┼────────────┼────────────┤\n",
      "│ 2019-09-27 : 2020-09-30 │ 0.217   │ -0.0655508 │ -0.0246392 │\n",
      "╘═════════════════════════╧═════════╧════════════╧════════════╛\n"
     ]
    }
   ],
   "source": [
    "print(tabulate(sharpe_df, headers=['Date range', *sharpe_df.columns], tablefmt='fancy_grid'))"
   ],
   "metadata": {
    "collapsed": false,
    "pycharm": {
     "name": "#%%\n"
    }
   }
  },
  {
   "cell_type": "markdown",
   "metadata": {
    "pycharm": {
     "name": "#%% md\n"
    }
   },
   "source": [
    "<h3>\n",
    "References\n",
    "</h3>\n",
    "\n",
    "<ul>\n",
    "<li>LaTex References. Jupyter notebooks use LaTex markup for equations\n",
    "<ul>\n",
    "<li><a href=\"https://artofproblemsolving.com/wiki/index.php/LaTeX:Symbols\">LaTex Symbols (Art of Problem Solving)</a></li>\n",
    "<li><a href=\"https://artofproblemsolving.com/wiki/index.php/LaTeX:Commands\">LaTex Commands (Art of Problem Solving)</a></li>\n",
    "</ul>\n",
    "</li>\n",
    "\n",
    "</ul>\n"
   ]
  }
 ],
 "metadata": {
  "celltoolbar": "Edit Metadata",
  "kernelspec": {
   "display_name": "Python 3 (ipykernel)",
   "language": "python",
   "name": "python3"
  },
  "language_info": {
   "codemirror_mode": {
    "name": "ipython",
    "version": 3
   },
   "file_extension": ".py",
   "mimetype": "text/x-python",
   "name": "python",
   "nbconvert_exporter": "python",
   "pygments_lexer": "ipython3",
   "version": "3.9.7"
  }
 },
 "nbformat": 4,
 "nbformat_minor": 1
}