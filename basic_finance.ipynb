{
 "cells": [
  {
   "cell_type": "markdown",
   "source": [
    "<h2>\n",
    "Basic Finance\n",
    "</h2>\n",
    "\n",
    "<p>\n",
    "The Python code in this Jupyter notebook demonstrates some basic quantiative\n",
    "finance code.\n",
    "</p>\n",
    "<p>\n",
    "I have a Masters degree in Computational Finance and Risk Management from the\n",
    "University of Washington.  In this Masters program we used R.  I also used\n",
    "R for my Masters degree project (see\n",
    "<a href=\"http://bearcave.com/finance/thesis_project/index.html\">Value Factors Do Not Forecast Returns for S&P 500 Stocks</a>)\n",
    "</p>\n",
    "<p>\n",
    "For a variety of reasons I am moving from R to Python.  This note book contains some of the\n",
    "first steps in this journey.\n",
    "</p>"
   ],
   "metadata": {
    "collapsed": false,
    "pycharm": {
     "name": "#%% md\n"
    }
   }
  },
  {
   "cell_type": "code",
   "execution_count": 1,
   "metadata": {
    "pycharm": {
     "name": "#%%\n"
    }
   },
   "outputs": [],
   "source": [
    "from pandas_datareader import data\n",
    "from tabulate import tabulate\n",
    "import tempfile\n",
    "import pandas as pd\n",
    "from pathlib import Path"
   ]
  },
  {
   "cell_type": "code",
   "execution_count": 2,
   "metadata": {
    "pycharm": {
     "name": "#%%\n"
    }
   },
   "outputs": [
    {
     "name": "stdout",
     "output_type": "stream",
     "text": [
      "Symbols: gs  jpm  bac \n"
     ]
    }
   ],
   "source": [
    "tf = tempfile.NamedTemporaryFile(mode='r+', delete=False, suffix='.csv')\n",
    "tempFile = Path(tf.name)\n",
    "fileSize = tempFile.stat().st_size\n",
    "\n",
    "tickers = ['gs', 'jpm', 'bac']\n",
    "\n",
    "print(\"Symbols: \" + \" \".join(sym + ' ' for sym in tickers))"
   ]
  },
  {
   "cell_type": "markdown",
   "metadata": {
    "pycharm": {
     "name": "#%% md\n"
    }
   },
   "source": [
    "Fetch adjusted daily close prices for the symbols:"
   ]
  },
  {
   "cell_type": "code",
   "execution_count": 3,
   "metadata": {
    "pycharm": {
     "name": "#%%\n"
    }
   },
   "outputs": [],
   "source": [
    "fileName = \"basic_finance_data\"\n",
    "# year-month-day\n",
    "start_date = '2019-01-01'\n",
    "end_date = '2021-10-05'\n",
    "\n",
    "data_source = 'yahoo'\n",
    "\n",
    "panel_data = data.DataReader(tickers, data_source, start_date, end_date)\n",
    "close_prices = panel_data['Adj Close']"
   ]
  },
  {
   "cell_type": "markdown",
   "metadata": {
    "pycharm": {
     "name": "#%% md\n"
    }
   },
   "source": [
    "Basic time series statistics"
   ]
  },
  {
   "cell_type": "code",
   "execution_count": 4,
   "metadata": {
    "pycharm": {
     "name": "#%%\n"
    }
   },
   "outputs": [
    {
     "name": "stdout",
     "output_type": "stream",
     "text": [
      "╒═══════════╤══════════╤══════════╤═══════════╕\n",
      "│ Symbols   │       gs │      jpm │       bac │\n",
      "╞═══════════╪══════════╪══════════╪═══════════╡\n",
      "│ count     │ 696      │ 696      │ 696       │\n",
      "├───────────┼──────────┼──────────┼───────────┤\n",
      "│ mean      │ 240.461  │ 117.073  │  29.9886  │\n",
      "├───────────┼──────────┼──────────┼───────────┤\n",
      "│ std       │  73.6739 │  24.2521 │   6.23185 │\n",
      "├───────────┼──────────┼──────────┼───────────┤\n",
      "│ min       │ 131.002  │  74.87   │  17.4691  │\n",
      "├───────────┼──────────┼──────────┼───────────┤\n",
      "│ 25%       │ 190.829  │  96.6993 │  25.3222  │\n",
      "├───────────┼──────────┼──────────┼───────────┤\n",
      "│ 50%       │ 204.868  │ 108.12   │  27.9751  │\n",
      "├───────────┼──────────┼──────────┼───────────┤\n",
      "│ 75%       │ 290.02   │ 135.584  │  33.5886  │\n",
      "├───────────┼──────────┼──────────┼───────────┤\n",
      "│ max       │ 417.661  │ 168.66   │  44.22    │\n",
      "╘═══════════╧══════════╧══════════╧═══════════╛\n"
     ]
    }
   ],
   "source": [
    "print(tabulate(close_prices.describe(), headers=['Symbols', *tickers], tablefmt=\"fancy_grid\"))"
   ]
  },
  {
   "cell_type": "markdown",
   "metadata": {
    "pycharm": {
     "name": "#%% md\n"
    }
   },
   "source": [
    "<h3>\n",
    "Time series plot\n",
    "</h3>"
   ]
  },
  {
   "cell_type": "code",
   "execution_count": 5,
   "metadata": {
    "pycharm": {
     "name": "#%%\n"
    }
   },
   "outputs": [
    {
     "data": {
      "text/plain": [
       "<AxesSubplot:xlabel='Date'>"
      ]
     },
     "execution_count": 5,
     "metadata": {},
     "output_type": "execute_result"
    },
    {
     "data": {
      "image/png": "[encoded data removed]",
      "text/plain": [
       "<Figure size 432x288 with 1 Axes>"
      ]
     },
     "metadata": {
      "needs_background": "light"
     },
     "output_type": "display_data"
    }
   ],
   "source": [
    "close_prices.plot()"
   ]
  },
  {
   "cell_type": "markdown",
   "metadata": {
    "pycharm": {
     "name": "#%% md\n"
    }
   },
   "source": [
    "<p>\n",
    "The previous plot does not allow the prices of the three financial stocks to\n",
    "be compared because they are on different scales.  Adjusting each stock price\n",
    "so that it starts at zero allows price increases/decreases for the stocks to\n",
    "be more easily compared.\n",
    "</p>"
   ]
  },
  {
   "cell_type": "code",
   "execution_count": null,
   "metadata": {
    "pycharm": {
     "name": "#%%\n"
    }
   },
   "outputs": [],
   "source": []
  }
 ],
 "metadata": {
  "celltoolbar": "Edit Metadata",
  "kernelspec": {
   "display_name": "Python 3 (ipykernel)",
   "language": "python",
   "name": "python3"
  },
  "language_info": {
   "codemirror_mode": {
    "name": "ipython",
    "version": 3
   },
   "file_extension": ".py",
   "mimetype": "text/x-python",
   "name": "python",
   "nbconvert_exporter": "python",
   "pygments_lexer": "ipython3",
   "version": "3.8.5"
  }
 },
 "nbformat": 4,
 "nbformat_minor": 1
}